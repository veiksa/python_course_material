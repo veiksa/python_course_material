{
 "metadata": {
  "name": "proteomics_data"
 },
 "nbformat": 3,
 "nbformat_minor": 0,
 "worksheets": [
  {
   "cells": [
    {
     "cell_type": "markdown",
     "metadata": {},
     "source": [
      "Now we will look at some proteomics data.\n",
      "\n",
      "To make this easier, `pandas` provides a `read_csv` method that easily turns this data into a useful form."
     ]
    },
    {
     "cell_type": "code",
     "collapsed": false,
     "input": [
      "from pandas import read_csv as pdcsv"
     ],
     "language": "python",
     "metadata": {},
     "outputs": [],
     "prompt_number": 33
    },
    {
     "cell_type": "code",
     "collapsed": false,
     "input": [
      "data_frame = pdcsv('data/proteomics_data.csv')\n",
      "data_frame"
     ],
     "language": "python",
     "metadata": {},
     "outputs": [
      {
       "output_type": "pyout",
       "prompt_number": 34,
       "text": [
        "   Uniprot    10    20    30    40    50\n",
        "0   P14060  2.06  1.20  1.61  0.00 -0.03\n",
        "1   P26439  1.80  3.57  2.04  2.49  2.69\n",
        "2   P29372 -0.64 -0.71 -0.21 -0.30 -1.16\n",
        "3   Q96J02 -0.52 -1.34 -0.15 -0.99 -1.97\n",
        "4   P52209  1.35  2.20  1.47  1.16  0.51\n",
        "5   P80370  1.12  0.00  0.56  1.46 -0.01\n",
        "6   P05112  0.93 -0.93 -3.28  0.00 -0.40\n",
        "7   Q9BQI3 -0.85  0.00 -2.07 -0.26 -1.89\n",
        "8   O43318  1.82 -0.21 -0.53  0.00 -1.16\n",
        "9   O95257 -0.27 -0.65  0.82 -2.07  0.00\n",
        "10  Q7L7X3 -0.22  0.00 -0.36 -0.14  0.32\n",
        "11  P22694 -2.01 -0.63  0.65  0.15 -0.97\n",
        "12  Q13105 -0.41  0.95 -1.49  0.00 -1.41\n",
        "13  Q15329 -0.38 -0.26 -0.27  0.20 -1.56\n",
        "14  P23771  0.75  1.03  0.44  0.00  1.40\n",
        "15  Q92985  0.13 -0.49  0.36 -0.71 -1.54\n",
        "16  Q15788  1.18  0.94  1.27  1.98  1.53\n",
        "17  Q15413  1.80  3.57  2.04  2.49  2.69"
       ]
      }
     ],
     "prompt_number": 34
    },
    {
     "cell_type": "markdown",
     "metadata": {},
     "source": [
      "`index_col=0` specifies that the first column should be used as an index column instead \n",
      "of creating a new column(in this case Uniprot codes)."
     ]
    },
    {
     "cell_type": "code",
     "collapsed": false,
     "input": [
      "data_frame = pd.read_csv('data/proteomics_data.csv', index_col=0)\n",
      "data_frame"
     ],
     "language": "python",
     "metadata": {},
     "outputs": [
      {
       "output_type": "pyout",
       "prompt_number": 11,
       "text": [
        "           10    20    30    40    50\n",
        "Uniprot                              \n",
        "P14060   2.06  1.20  1.61  0.00 -0.03\n",
        "P26439   1.80  3.57  2.04  2.49  2.69\n",
        "P29372  -0.64 -0.71 -0.21 -0.30 -1.16\n",
        "Q96J02  -0.52 -1.34 -0.15 -0.99 -1.97\n",
        "P52209   1.35  2.20  1.47  1.16  0.51\n",
        "P80370   1.12  0.00  0.56  1.46 -0.01\n",
        "P05112   0.93 -0.93 -3.28  0.00 -0.40\n",
        "Q9BQI3  -0.85  0.00 -2.07 -0.26 -1.89\n",
        "O43318   1.82 -0.21 -0.53  0.00 -1.16\n",
        "O95257  -0.27 -0.65  0.82 -2.07  0.00\n",
        "Q7L7X3  -0.22  0.00 -0.36 -0.14  0.32\n",
        "P22694  -2.01 -0.63  0.65  0.15 -0.97\n",
        "Q13105  -0.41  0.95 -1.49  0.00 -1.41\n",
        "Q15329  -0.38 -0.26 -0.27  0.20 -1.56\n",
        "P23771   0.75  1.03  0.44  0.00  1.40\n",
        "Q92985   0.13 -0.49  0.36 -0.71 -1.54\n",
        "Q15788   1.18  0.94  1.27  1.98  1.53\n",
        "Q15413   1.80  3.57  2.04  2.49  2.69"
       ]
      }
     ],
     "prompt_number": 11
    },
    {
     "cell_type": "markdown",
     "metadata": {},
     "source": [
      "Lets have a quick look at the statistics in both dimensions."
     ]
    },
    {
     "cell_type": "code",
     "collapsed": false,
     "input": [
      "data_frame.describe()"
     ],
     "language": "python",
     "metadata": {},
     "outputs": [
      {
       "output_type": "pyout",
       "prompt_number": 13,
       "text": [
        "              10         20         30         40         50\n",
        "count  18.000000  18.000000  18.000000  18.000000  18.000000\n",
        "mean    0.424444   0.457778   0.161111   0.303333  -0.164444\n",
        "std     1.152574   1.438555   1.409359   1.191894   1.469058\n",
        "min    -2.010000  -1.340000  -3.280000  -2.070000  -1.970000\n",
        "25%    -0.402500  -0.595000  -0.337500  -0.230000  -1.347500\n",
        "50%     0.440000   0.000000   0.400000   0.000000  -0.215000\n",
        "75%     1.307500   1.010000   1.157500   0.920000   0.462500\n",
        "max     2.060000   3.570000   2.040000   2.490000   2.690000"
       ]
      }
     ],
     "prompt_number": 13
    },
    {
     "cell_type": "markdown",
     "metadata": {},
     "source": [
      "Try to plot the data for the two proteins with the lowest standard deviation (for their five measumrents)."
     ]
    },
    {
     "cell_type": "code",
     "collapsed": false,
     "input": [
      "a = data_frame['10']['Q15329']\n",
      "b = data_frame.T['Q15329']['10']\n",
      "a == b"
     ],
     "language": "python",
     "metadata": {},
     "outputs": [
      {
       "output_type": "pyout",
       "prompt_number": 29,
       "text": [
        "True"
       ]
      }
     ],
     "prompt_number": 29
    },
    {
     "cell_type": "code",
     "collapsed": false,
     "input": [
      "a.shape"
     ],
     "language": "python",
     "metadata": {},
     "outputs": [
      {
       "output_type": "pyout",
       "prompt_number": 23,
       "text": [
        "()"
       ]
      }
     ],
     "prompt_number": 23
    },
    {
     "cell_type": "code",
     "collapsed": false,
     "input": [
      "type(a)"
     ],
     "language": "python",
     "metadata": {},
     "outputs": [
      {
       "output_type": "pyout",
       "prompt_number": 25,
       "text": [
        "numpy.float64"
       ]
      }
     ],
     "prompt_number": 25
    },
    {
     "cell_type": "code",
     "collapsed": false,
     "input": [
      "for i in data_frame.T['Q15329']:\n",
      "    print i"
     ],
     "language": "python",
     "metadata": {},
     "outputs": [
      {
       "output_type": "stream",
       "stream": "stdout",
       "text": [
        "-0.38\n",
        "-0.26\n",
        "-0.27\n",
        "0.2\n",
        "-1.56\n"
       ]
      }
     ],
     "prompt_number": 27
    },
    {
     "cell_type": "code",
     "collapsed": false,
     "input": [],
     "language": "python",
     "metadata": {},
     "outputs": []
    }
   ],
   "metadata": {}
  }
 ]
}